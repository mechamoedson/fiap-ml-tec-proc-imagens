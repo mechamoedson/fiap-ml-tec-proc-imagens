{
 "cells": [
  {
   "cell_type": "markdown",
   "metadata": {},
   "source": [
    "## Desafio 2\n",
    "\n",
    "\n",
    "Construa um detector de bocejos que por meio da identificação de regiões da face calcule a área da boca e indique quando há ou não um bocejo.\n",
    "Crie um contador de bocejos e que as informações sejam exibidas em tempo real utilizando uma webcam."
   ]
  },
  {
   "cell_type": "code",
   "execution_count": 1,
   "metadata": {},
   "outputs": [
    {
     "name": "stdout",
     "output_type": "stream",
     "text": [
      "3.4.2\n"
     ]
    },
    {
     "name": "stderr",
     "output_type": "stream",
     "text": [
      "/Users/michel.fernandes/anaconda/lib/python3.6/site-packages/joblib/_multiprocessing_helpers.py:28: UserWarning: [Errno 28] No space left on device.  joblib will operate in serial mode\n",
      "  warnings.warn('%s.  joblib will operate in serial mode' % (e,))\n"
     ]
    }
   ],
   "source": [
    "import numpy as np\n",
    "import matplotlib.image as mpimg\n",
    "import matplotlib.pyplot as plt\n",
    "import seaborn as sns\n",
    "import cv2\n",
    "print(cv2.__version__)\n",
    "\n",
    "#Pop-up do Matplotlib\n",
    "#%matplotlib qt\n",
    "\n",
    "#Exibição na mesma tela do Jupyter\n",
    "%matplotlib inline\n",
    "\n",
    "#plt.rcParams[\"figure.figsize\"]\\\n",
    "#(8,5)\n",
    "\n",
    "from io import BytesIO\n",
    "from IPython.display import clear_output, Image, display\n",
    "import PIL\n",
    "\n",
    "import datetime\n",
    "\n",
    "import dlib\n",
    "\n",
    "plt.style.use('seaborn')\n",
    "sns.set_style(\"whitegrid\", {'axes.grid' : False})"
   ]
  },
  {
   "cell_type": "code",
   "execution_count": 6,
   "metadata": {
    "collapsed": true
   },
   "outputs": [],
   "source": [
    "import dlib\n",
    "import numpy \n",
    "\n",
    "predictor_68_path = \"../modelos/shape_predictor_68_face_landmarks.dat\"\n",
    "\n",
    "classificador = dlib.shape_predictor(predictor_68_path)\n",
    "detector = dlib.get_frontal_face_detector()"
   ]
  },
  {
   "cell_type": "code",
   "execution_count": 7,
   "metadata": {
    "collapsed": true
   },
   "outputs": [],
   "source": [
    "FACE = list(range(17, 68))\n",
    "LABIO = list(range(48, 61))\n",
    "SOMBRANCELHA_DIREITA = list(range(17, 22))\n",
    "SOMBRANCELHA_ESQUERDA = list(range(22, 27))\n",
    "OLHO_DIREITO = list(range(36, 42))\n",
    "OLHO_ESQUERDO = list(range(42, 48))\n",
    "NARIZ = list(range(27, 35))\n",
    "MANDIBULA = list(range(0, 17))"
   ]
  },
  {
   "cell_type": "code",
   "execution_count": 13,
   "metadata": {
    "collapsed": true
   },
   "outputs": [],
   "source": [
    "def annotate_landmarks_convex_hull_image(im):\n",
    "    im = im.copy()\n",
    "    retangulos = detector(im, 1)\n",
    "    \n",
    "    if len(retangulos) == 0:\n",
    "        return im, 0\n",
    "    \n",
    "    marcos = []\n",
    "    \n",
    "    for retangulo in retangulos:\n",
    "        landmarks = np.matrix([[p.x, p.y] for p in classificador(im, retangulo).parts()])\n",
    "\n",
    "        for k, d in enumerate(retangulos):\n",
    "            cv2.rectangle(im, (d.left(), d.top()), (d.right(), d.bottom()), (255, 0, 255), 2)\n",
    "\n",
    "            pontos = cv2.convexHull(landmarks[NARIZ])\n",
    "            cv2.drawContours(im, [pontos], 0, (0, 255, 0), 1)\n",
    "\n",
    "            pontos = cv2.convexHull(landmarks[LABIO])\n",
    "            cv2.drawContours(im, [pontos], 0, (0, 255, 0), 1)\n",
    "\n",
    "            area_boca = cv2.contourArea(pontos)   \n",
    "            cv2.putText(im, \"Boca \"+str(area_boca), (d.left(),d.top()-10), cv2.FONT_HERSHEY_SIMPLEX, 1, (0,255,0), 1)\n",
    "            \n",
    "            pontos = cv2.convexHull(landmarks[SOMBRANCELHA_DIREITA])\n",
    "            cv2.drawContours(im, [pontos], 0, (0, 255, 0), 1)\n",
    "\n",
    "            pontos = cv2.convexHull(landmarks[SOMBRANCELHA_ESQUERDA])\n",
    "            cv2.drawContours(im, [pontos], 0, (0, 255, 0), 1)\n",
    "\n",
    "            pontos = cv2.convexHull(landmarks[OLHO_DIREITO])\n",
    "            cv2.drawContours(im, [pontos], 0, (0, 255, 0), 1)\n",
    "\n",
    "            pontos = cv2.convexHull(landmarks[OLHO_ESQUERDO])\n",
    "            cv2.drawContours(im, [pontos], 0, (0, 255, 0), 1)\n",
    "\n",
    "    return im, area_boca"
   ]
  },
  {
   "cell_type": "code",
   "execution_count": 18,
   "metadata": {},
   "outputs": [
    {
     "name": "stdout",
     "output_type": "stream",
     "text": [
      "Interrompido\n"
     ]
    }
   ],
   "source": [
    "#cam_capture.release()\n",
    "   \n",
    "cam_capture = cv2.VideoCapture(0)\n",
    "\n",
    "qtde_bocejos = 0\n",
    "\n",
    "bocejo = False\n",
    "\n",
    "try:\n",
    "    while True:\n",
    "        ret, image_frame = cam_capture.read()\n",
    "        prev_bocejo = bocejo \n",
    "\n",
    "        if ret:\n",
    "            image_frame, area_boca = annotate_landmarks_convex_hull_image(image_frame)\n",
    "\n",
    "            if area_boca > 4100:\n",
    "                bocejo = True\n",
    "            else:\n",
    "                bocejo = False\n",
    "\n",
    "            if prev_bocejo == True and bocejo == False:\n",
    "                qtde_bocejos += 1\n",
    "\n",
    "            cv2.putText(image_frame, \"bocelo \"+str(qtde_bocejos), (30, 30), cv2.FONT_HERSHEY_SIMPLEX, 1, (0,255,0), 2)\n",
    "            cv2.putText(image_frame, \"area boca \"+str(area_boca), (30, 60), cv2.FONT_HERSHEY_SIMPLEX, 1, (0,255,0), 2)\n",
    "           \n",
    "            image_frame = cv2.cvtColor(image_frame, cv2.COLOR_BGR2RGB)\n",
    "            \n",
    "            cv2.imwrite(\"imagens/camera_output_2.png\", image_frame)\n",
    "            \n",
    "            img = PIL.Image.fromarray(image_frame, \"RGB\")\n",
    "            buffer = BytesIO()\n",
    "            img.save(buffer,format=\"JPEG\")        \n",
    "            display(Image(data=buffer.getvalue()))\n",
    "\n",
    "            clear_output(wait=True)\n",
    "            \n",
    "except KeyboardInterrupt:\n",
    "    cam_capture.release()\n",
    "    print(\"Interrompido\")"
   ]
  },
  {
   "cell_type": "code",
   "execution_count": null,
   "metadata": {
    "collapsed": true
   },
   "outputs": [],
   "source": []
  }
 ],
 "metadata": {
  "kernelspec": {
   "display_name": "Python 3",
   "language": "python",
   "name": "python3"
  },
  "language_info": {
   "codemirror_mode": {
    "name": "ipython",
    "version": 3
   },
   "file_extension": ".py",
   "mimetype": "text/x-python",
   "name": "python",
   "nbconvert_exporter": "python",
   "pygments_lexer": "ipython3",
   "version": "3.6.5"
  }
 },
 "nbformat": 4,
 "nbformat_minor": 2
}
